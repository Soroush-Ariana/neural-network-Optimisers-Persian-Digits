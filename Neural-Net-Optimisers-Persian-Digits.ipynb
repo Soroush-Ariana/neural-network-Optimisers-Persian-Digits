{
  "nbformat": 4,
  "nbformat_minor": 0,
  "metadata": {
    "colab": {
      "name": "AI_Assignment_8.ipynb",
      "provenance": [],
      "collapsed_sections": []
    },
    "kernelspec": {
      "name": "python3",
      "display_name": "Python 3"
    },
    "language_info": {
      "name": "python"
    },
    "accelerator": "GPU"
  },
  "cells": [
    {
      "cell_type": "code",
      "metadata": {
        "colab": {
          "base_uri": "https://localhost:8080/"
        },
        "id": "DVSh2eKkVls_",
        "outputId": "2e6eb482-830c-424f-cc6d-b9f8600d927d"
      },
      "source": [
        "from IPython.display import clear_output\n",
        "import numpy as np\n",
        "import matplotlib.pyplot as plt\n",
        "import cv2\n",
        "import seaborn as sns\n",
        "\n",
        "from sklearn.model_selection import train_test_split\n",
        "from sklearn import metrics\n",
        "from sklearn import tree\n",
        "from sklearn import ensemble\n",
        "\n",
        "!pip install ipython-autotime\n",
        "%load_ext autotime\n",
        "\n",
        "clear_output()\n",
        "print(\"Done!\")"
      ],
      "execution_count": 16,
      "outputs": [
        {
          "output_type": "stream",
          "text": [
            "Done!\n",
            "time: 2.25 s (started: 2021-06-09 19:32:24 +00:00)\n"
          ],
          "name": "stdout"
        }
      ]
    },
    {
      "cell_type": "code",
      "metadata": {
        "colab": {
          "base_uri": "https://localhost:8080/"
        },
        "id": "l04H1_RkN1OL",
        "outputId": "e4541de6-b90c-4b01-c6cd-2bc50db35321"
      },
      "source": [
        "#@title Download the data!\n",
        "!wget --no-check-certificate 'http://farsiocr.ir/Archive/DigitDB.zip'\n",
        "!unzip DigitDB.zip\n",
        "\n",
        "clear_output()\n",
        "print(\"Done!\")"
      ],
      "execution_count": 17,
      "outputs": [
        {
          "output_type": "stream",
          "text": [
            "Done!\n",
            "time: 8.99 s (started: 2021-06-09 19:32:27 +00:00)\n"
          ],
          "name": "stdout"
        }
      ]
    },
    {
      "cell_type": "code",
      "metadata": {
        "colab": {
          "base_uri": "https://localhost:8080/"
        },
        "id": "Ezejto1QcGcK",
        "outputId": "51037b21-75f0-4fdd-9604-4efb2ab56ef7"
      },
      "source": [
        "!wget --no-check-certificate 'https://raw.githubusercontent.com/amir-saniyan/HodaDatasetReader/master/HodaDatasetReader.py'\n",
        "\n",
        "from HodaDatasetReader import read_hoda_cdb\n",
        "data, y_train = np.array(read_hoda_cdb('Train 60000.cdb'))\n",
        "\n",
        "clear_output()\n",
        "print(data.shape)"
      ],
      "execution_count": 18,
      "outputs": [
        {
          "output_type": "stream",
          "text": [
            "(60000,)\n",
            "time: 6.25 s (started: 2021-06-09 19:32:36 +00:00)\n"
          ],
          "name": "stdout"
        }
      ]
    },
    {
      "cell_type": "code",
      "metadata": {
        "colab": {
          "base_uri": "https://localhost:8080/",
          "height": 336
        },
        "id": "r3WTxSLcOHOv",
        "outputId": "61307ea8-e558-4a50-bff0-c874e2fa15bc"
      },
      "source": [
        "#@title Visualize\n",
        "fig, ax = plt.subplots(2, 5, figsize=(10,5))\n",
        "\n",
        "sampled_indices = range(10)\n",
        "sampled = data[sampled_indices]\n",
        "sampled_labels = y_train[sampled_indices]\n",
        "\n",
        "for row in range (2):\n",
        "  for col in range (5):\n",
        "    sample = sampled[row*5 + col]\n",
        "    label = sampled_labels[row*5 + col]\n",
        "    ax[row][col].imshow(sample, cmap='gray')\n",
        "    ax[row][col].axis('off')\n",
        "    ax[row][col].set_title(\"Label : \"+ str(label))\n",
        "fig.show()"
      ],
      "execution_count": 4,
      "outputs": [
        {
          "output_type": "display_data",
          "data": {
            "image/png": "[encoded data removed]",
            "text/plain": [
              "<Figure size 720x360 with 10 Axes>"
            ]
          },
          "metadata": {
            "tags": [],
            "needs_background": "light"
          }
        },
        {
          "output_type": "stream",
          "text": [
            "time: 387 ms (started: 2021-06-09 18:53:11 +00:00)\n"
          ],
          "name": "stdout"
        }
      ]
    },
    {
      "cell_type": "code",
      "metadata": {
        "colab": {
          "base_uri": "https://localhost:8080/"
        },
        "id": "bRgPekVeOJ0p",
        "outputId": "fb1f009a-36bd-4a41-8ca0-61cd2551a766"
      },
      "source": [
        "def reshape_images(dataset, size):\n",
        "  result = []\n",
        "  for d in dataset:\n",
        "    height, width = d.shape\n",
        "    ww = max(height, width)\n",
        "    pad = np.zeros((ww, ww))\n",
        "    xx = (ww - width) // 2\n",
        "    yy = (ww - height) // 2\n",
        "    pad[yy:yy+height, xx:xx+width] = d\n",
        "    result.append(cv2.resize(pad, (size, size)))\n",
        "  return np.array(result)\n",
        "\n",
        "x, y = data[0].shape\n",
        "print(x, y)\n",
        "scaled_data = reshape_images(data, size=28)"
      ],
      "execution_count": 5,
      "outputs": [
        {
          "output_type": "stream",
          "text": [
            "27 20\n",
            "time: 865 ms (started: 2021-06-09 18:53:12 +00:00)\n"
          ],
          "name": "stdout"
        }
      ]
    },
    {
      "cell_type": "code",
      "metadata": {
        "colab": {
          "base_uri": "https://localhost:8080/",
          "height": 308
        },
        "id": "j6fj9cH2OfTN",
        "outputId": "3c7f4db2-b589-42bd-fa54-049667c3f7f5"
      },
      "source": [
        "fig, ax = plt.subplots(2, 5, figsize=(10,5))\n",
        "\n",
        "sampled_indices = np.random.randint(scaled_data.shape[0], size=10)\n",
        "sampled = scaled_data[sampled_indices]\n",
        "sampled_labels = y_train[sampled_indices]\n",
        "\n",
        "for row in range (2):\n",
        "  for col in range (5):\n",
        "    sample = sampled[row*5 + col]\n",
        "    label = sampled_labels[row*5 + col]\n",
        "    ax[row][col].imshow(sample, cmap='gray')\n",
        "    ax[row][col].axis('off')\n",
        "    ax[row][col].set_title(\"Label : \"+ str(label))\n",
        "fig.show()"
      ],
      "execution_count": 6,
      "outputs": [
        {
          "output_type": "display_data",
          "data": {
            "image/png": "[encoded data removed]",
            "text/plain": [
              "<Figure size 720x360 with 10 Axes>"
            ]
          },
          "metadata": {
            "tags": [],
            "needs_background": "light"
          }
        },
        {
          "output_type": "stream",
          "text": [
            "time: 306 ms (started: 2021-06-09 18:53:12 +00:00)\n"
          ],
          "name": "stdout"
        }
      ]
    },
    {
      "cell_type": "code",
      "metadata": {
        "colab": {
          "base_uri": "https://localhost:8080/",
          "height": 353
        },
        "id": "AQLEKg6bW7zB",
        "outputId": "60e89a17-b6f8-4ef1-bfc0-85ce49f9730b"
      },
      "source": [
        "sns.countplot(y_train)"
      ],
      "execution_count": 7,
      "outputs": [
        {
          "output_type": "stream",
          "text": [
            "/usr/local/lib/python3.7/dist-packages/seaborn/_decorators.py:43: FutureWarning: Pass the following variable as a keyword arg: x. From version 0.12, the only valid positional argument will be `data`, and passing other arguments without an explicit keyword will result in an error or misinterpretation.\n",
            "  FutureWarning\n"
          ],
          "name": "stderr"
        },
        {
          "output_type": "execute_result",
          "data": {
            "text/plain": [
              "<matplotlib.axes._subplots.AxesSubplot at 0x7f06a8e9bb90>"
            ]
          },
          "metadata": {
            "tags": []
          },
          "execution_count": 7
        },
        {
          "output_type": "display_data",
          "data": {
            "image/png": "[encoded data removed]",
            "text/plain": [
              "<Figure size 432x288 with 1 Axes>"
            ]
          },
          "metadata": {
            "tags": [],
            "needs_background": "light"
          }
        },
        {
          "output_type": "stream",
          "text": [
            "time: 256 ms (started: 2021-06-09 18:53:13 +00:00)\n"
          ],
          "name": "stdout"
        }
      ]
    },
    {
      "cell_type": "code",
      "metadata": {
        "colab": {
          "base_uri": "https://localhost:8080/"
        },
        "id": "wU4oM6uQ19Ee",
        "outputId": "75e87d65-6969-451c-91d3-4aa6cac6dc96"
      },
      "source": [
        "test_data, y_test = np.array(read_hoda_cdb('Test 20000.cdb'))\n",
        "scaled_test_data = reshape_images(test_data, size=28)\n",
        "\n",
        "clear_output()\n",
        "print(y_test.shape)"
      ],
      "execution_count": 8,
      "outputs": [
        {
          "output_type": "stream",
          "text": [
            "(20000,)\n",
            "time: 2.28 s (started: 2021-06-09 18:53:13 +00:00)\n"
          ],
          "name": "stdout"
        }
      ]
    },
    {
      "cell_type": "code",
      "metadata": {
        "colab": {
          "base_uri": "https://localhost:8080/",
          "height": 353
        },
        "id": "35doHoS_XB1J",
        "outputId": "bee3e2be-6df3-4866-ad6f-5c321c9ec39b"
      },
      "source": [
        "sns.countplot(y_test)"
      ],
      "execution_count": 9,
      "outputs": [
        {
          "output_type": "stream",
          "text": [
            "/usr/local/lib/python3.7/dist-packages/seaborn/_decorators.py:43: FutureWarning: Pass the following variable as a keyword arg: x. From version 0.12, the only valid positional argument will be `data`, and passing other arguments without an explicit keyword will result in an error or misinterpretation.\n",
            "  FutureWarning\n"
          ],
          "name": "stderr"
        },
        {
          "output_type": "execute_result",
          "data": {
            "text/plain": [
              "<matplotlib.axes._subplots.AxesSubplot at 0x7f06a8d5cbd0>"
            ]
          },
          "metadata": {
            "tags": []
          },
          "execution_count": 9
        },
        {
          "output_type": "display_data",
          "data": {
            "image/png": "[encoded data removed]",
            "text/plain": [
              "<Figure size 432x288 with 1 Axes>"
            ]
          },
          "metadata": {
            "tags": [],
            "needs_background": "light"
          }
        },
        {
          "output_type": "stream",
          "text": [
            "time: 212 ms (started: 2021-06-09 18:53:15 +00:00)\n"
          ],
          "name": "stdout"
        }
      ]
    },
    {
      "cell_type": "markdown",
      "metadata": {
        "id": "dm_NPk7bmGIE"
      },
      "source": [
        "# Input pipeline"
      ]
    },
    {
      "cell_type": "code",
      "metadata": {
        "colab": {
          "base_uri": "https://localhost:8080/"
        },
        "id": "cs2guhBomHs7",
        "outputId": "38805012-d25f-4e41-fc1a-53e932abb649"
      },
      "source": [
        "#@title Initialization & dependencies\n",
        "batch_size =  128#@param {type:\"integer\"}\n",
        "shuffle_buffer_size =  100#@param {type:\"integer\"}\n",
        "\n",
        "import tensorflow as tf\n",
        "import numpy as np"
      ],
      "execution_count": 10,
      "outputs": [
        {
          "output_type": "stream",
          "text": [
            "time: 1.39 s (started: 2021-06-09 18:53:16 +00:00)\n"
          ],
          "name": "stdout"
        }
      ]
    },
    {
      "cell_type": "code",
      "metadata": {
        "colab": {
          "base_uri": "https://localhost:8080/"
        },
        "id": "FV1Ixfk1oh1h",
        "outputId": "8e0b83ac-d3f8-4c12-87b2-23f5640f36f7"
      },
      "source": [
        "scaled_data = np.asarray(scaled_data).astype('float32')\n",
        "y_train = np.asarray(y_train).astype('int32')\n",
        "\n",
        "scaled_test_data = np.asarray(scaled_test_data).astype('float32')\n",
        "y_test = np.asarray(y_test).astype('int32')\n",
        "\n",
        "train_ds = tf.data.Dataset.from_tensor_slices((scaled_data, y_train))\n",
        "test_ds = tf.data.Dataset.from_tensor_slices((scaled_test_data, y_test))"
      ],
      "execution_count": 11,
      "outputs": [
        {
          "output_type": "stream",
          "text": [
            "time: 5.01 s (started: 2021-06-09 18:53:17 +00:00)\n"
          ],
          "name": "stdout"
        }
      ]
    },
    {
      "cell_type": "code",
      "metadata": {
        "colab": {
          "base_uri": "https://localhost:8080/"
        },
        "id": "f2JMDDPzpB-X",
        "outputId": "e0a7c730-6cf5-4060-8f6b-c322f1f9b43f"
      },
      "source": [
        "train_ds = train_ds.map(lambda img, label: (img/255., label))\n",
        "train_ds = train_ds.cache()\n",
        "train_ds = train_ds.shuffle(shuffle_buffer_size)\n",
        "train_ds = train_ds.batch(batch_size)\n",
        "train_ds = train_ds.prefetch(tf.data.experimental.AUTOTUNE)"
      ],
      "execution_count": 12,
      "outputs": [
        {
          "output_type": "stream",
          "text": [
            "time: 47.5 ms (started: 2021-06-09 18:53:22 +00:00)\n"
          ],
          "name": "stdout"
        }
      ]
    },
    {
      "cell_type": "code",
      "metadata": {
        "colab": {
          "base_uri": "https://localhost:8080/"
        },
        "id": "KPTFgHYiq81g",
        "outputId": "455ba367-713e-4ff6-bb7a-b360e67ed183"
      },
      "source": [
        "test_ds = test_ds.map(lambda img, label: (img/255., label))\n",
        "test_ds = test_ds.cache()\n",
        "test_ds = test_ds.shuffle(shuffle_buffer_size)\n",
        "test_ds = test_ds.batch(batch_size)\n",
        "test_ds = test_ds.prefetch(tf.data.experimental.AUTOTUNE)"
      ],
      "execution_count": 13,
      "outputs": [
        {
          "output_type": "stream",
          "text": [
            "time: 14.2 ms (started: 2021-06-09 18:53:22 +00:00)\n"
          ],
          "name": "stdout"
        }
      ]
    },
    {
      "cell_type": "markdown",
      "metadata": {
        "id": "0uj5FlO2l_PC"
      },
      "source": [
        "# Model"
      ]
    },
    {
      "cell_type": "code",
      "metadata": {
        "colab": {
          "base_uri": "https://localhost:8080/"
        },
        "id": "W6tuiJbAlk2p",
        "outputId": "8834e61e-cf38-4bcd-c4d2-540131933e97"
      },
      "source": [
        "model = tf.keras.models.Sequential([\n",
        "  tf.keras.layers.Flatten(input_shape=(28, 28)),\n",
        "  tf.keras.layers.Dense(128, activation='relu'),\n",
        "  tf.keras.layers.Dense(10)\n",
        "])"
      ],
      "execution_count": 19,
      "outputs": [
        {
          "output_type": "stream",
          "text": [
            "time: 26.6 ms (started: 2021-06-09 19:32:47 +00:00)\n"
          ],
          "name": "stdout"
        }
      ]
    },
    {
      "cell_type": "code",
      "metadata": {
        "colab": {
          "base_uri": "https://localhost:8080/"
        },
        "id": "Orkln--iIITs",
        "outputId": "89065345-4c66-4879-8fae-db7680d00cac"
      },
      "source": [
        "model.summary()"
      ],
      "execution_count": 15,
      "outputs": [
        {
          "output_type": "stream",
          "text": [
            "Model: \"sequential\"\n",
            "_________________________________________________________________\n",
            "Layer (type)                 Output Shape              Param #   \n",
            "=================================================================\n",
            "flatten (Flatten)            (None, 784)               0         \n",
            "_________________________________________________________________\n",
            "dense (Dense)                (None, 128)               100480    \n",
            "_________________________________________________________________\n",
            "dense_1 (Dense)              (None, 10)                1290      \n",
            "=================================================================\n",
            "Total params: 101,770\n",
            "Trainable params: 101,770\n",
            "Non-trainable params: 0\n",
            "_________________________________________________________________\n",
            "time: 4.88 ms (started: 2021-06-09 18:54:51 +00:00)\n"
          ],
          "name": "stdout"
        }
      ]
    },
    {
      "cell_type": "markdown",
      "metadata": {
        "id": "kx29iDDxsCLT"
      },
      "source": [
        "# Adam"
      ]
    },
    {
      "cell_type": "code",
      "metadata": {
        "colab": {
          "base_uri": "https://localhost:8080/"
        },
        "id": "oGLrQTN6sFOC",
        "outputId": "47364a4c-172a-449c-95a8-c1297e9f421a"
      },
      "source": [
        "model.compile(\n",
        "    optimizer=tf.keras.optimizers.Adam(0.001),\n",
        "    loss=tf.keras.losses.SparseCategoricalCrossentropy(from_logits=True),\n",
        "    metrics=[tf.keras.metrics.SparseCategoricalAccuracy()],\n",
        ")\n",
        "history = model.fit(\n",
        "    train_ds,\n",
        "    epochs=20,\n",
        "    validation_data=test_ds,\n",
        ")"
      ],
      "execution_count": 20,
      "outputs": [
        {
          "output_type": "stream",
          "text": [
            "Epoch 1/20\n",
            "469/469 [==============================] - 6s 6ms/step - loss: 0.1774 - sparse_categorical_accuracy: 0.9496 - val_loss: 0.1789 - val_sparse_categorical_accuracy: 0.9467\n",
            "Epoch 2/20\n",
            "469/469 [==============================] - 1s 3ms/step - loss: 0.0688 - sparse_categorical_accuracy: 0.9811 - val_loss: 0.1401 - val_sparse_categorical_accuracy: 0.9560\n",
            "Epoch 3/20\n",
            "469/469 [==============================] - 2s 3ms/step - loss: 0.0472 - sparse_categorical_accuracy: 0.9868 - val_loss: 0.1177 - val_sparse_categorical_accuracy: 0.9623\n",
            "Epoch 4/20\n",
            "469/469 [==============================] - 2s 3ms/step - loss: 0.0347 - sparse_categorical_accuracy: 0.9904 - val_loss: 0.1035 - val_sparse_categorical_accuracy: 0.9670\n",
            "Epoch 5/20\n",
            "469/469 [==============================] - 2s 3ms/step - loss: 0.0260 - sparse_categorical_accuracy: 0.9930 - val_loss: 0.0954 - val_sparse_categorical_accuracy: 0.9710\n",
            "Epoch 6/20\n",
            "469/469 [==============================] - 1s 3ms/step - loss: 0.0201 - sparse_categorical_accuracy: 0.9948 - val_loss: 0.0861 - val_sparse_categorical_accuracy: 0.9729\n",
            "Epoch 7/20\n",
            "469/469 [==============================] - 2s 3ms/step - loss: 0.0153 - sparse_categorical_accuracy: 0.9960 - val_loss: 0.0848 - val_sparse_categorical_accuracy: 0.9732\n",
            "Epoch 8/20\n",
            "469/469 [==============================] - 1s 3ms/step - loss: 0.0117 - sparse_categorical_accuracy: 0.9973 - val_loss: 0.0842 - val_sparse_categorical_accuracy: 0.9750\n",
            "Epoch 9/20\n",
            "469/469 [==============================] - 1s 3ms/step - loss: 0.0093 - sparse_categorical_accuracy: 0.9980 - val_loss: 0.0887 - val_sparse_categorical_accuracy: 0.9743\n",
            "Epoch 10/20\n",
            "469/469 [==============================] - 2s 3ms/step - loss: 0.0071 - sparse_categorical_accuracy: 0.9986 - val_loss: 0.0879 - val_sparse_categorical_accuracy: 0.9751\n",
            "Epoch 11/20\n",
            "469/469 [==============================] - 2s 3ms/step - loss: 0.0067 - sparse_categorical_accuracy: 0.9986 - val_loss: 0.1054 - val_sparse_categorical_accuracy: 0.9714\n",
            "Epoch 12/20\n",
            "469/469 [==============================] - 1s 3ms/step - loss: 0.0070 - sparse_categorical_accuracy: 0.9983 - val_loss: 0.0929 - val_sparse_categorical_accuracy: 0.9754\n",
            "Epoch 13/20\n",
            "469/469 [==============================] - 1s 3ms/step - loss: 0.0050 - sparse_categorical_accuracy: 0.9989 - val_loss: 0.0897 - val_sparse_categorical_accuracy: 0.9765\n",
            "Epoch 14/20\n",
            "469/469 [==============================] - 1s 3ms/step - loss: 0.0036 - sparse_categorical_accuracy: 0.9993 - val_loss: 0.0909 - val_sparse_categorical_accuracy: 0.9769\n",
            "Epoch 15/20\n",
            "469/469 [==============================] - 1s 3ms/step - loss: 0.0030 - sparse_categorical_accuracy: 0.9994 - val_loss: 0.1046 - val_sparse_categorical_accuracy: 0.9743\n",
            "Epoch 16/20\n",
            "469/469 [==============================] - 1s 3ms/step - loss: 0.0027 - sparse_categorical_accuracy: 0.9995 - val_loss: 0.1027 - val_sparse_categorical_accuracy: 0.9763\n",
            "Epoch 17/20\n",
            "469/469 [==============================] - 1s 3ms/step - loss: 0.0026 - sparse_categorical_accuracy: 0.9994 - val_loss: 0.1118 - val_sparse_categorical_accuracy: 0.9742\n",
            "Epoch 18/20\n",
            "469/469 [==============================] - 2s 3ms/step - loss: 0.0038 - sparse_categorical_accuracy: 0.9991 - val_loss: 0.1300 - val_sparse_categorical_accuracy: 0.9716\n",
            "Epoch 19/20\n",
            "469/469 [==============================] - 2s 3ms/step - loss: 0.0050 - sparse_categorical_accuracy: 0.9984 - val_loss: 0.1130 - val_sparse_categorical_accuracy: 0.9744\n",
            "Epoch 20/20\n",
            "469/469 [==============================] - 1s 3ms/step - loss: 0.0025 - sparse_categorical_accuracy: 0.9994 - val_loss: 0.1077 - val_sparse_categorical_accuracy: 0.9772\n",
            "time: 51.4 s (started: 2021-06-09 19:32:51 +00:00)\n"
          ],
          "name": "stdout"
        }
      ]
    },
    {
      "cell_type": "code",
      "metadata": {
        "colab": {
          "base_uri": "https://localhost:8080/",
          "height": 590
        },
        "id": "Erg3gDwNtM5B",
        "outputId": "a0c2e046-fe6f-43a8-8f16-a22db536812d"
      },
      "source": [
        "کimport matplotlib.pyplot as plt\n",
        "\n",
        "plt.plot(history.history['sparse_categorical_accuracy'])\n",
        "plt.plot(history.history['val_sparse_categorical_accuracy'])\n",
        "plt.title('model accuracy')\n",
        "plt.ylabel('sparse_categorical_accuracy')\n",
        "plt.xlabel('epoch')\n",
        "plt.legend(['train', 'test'], loc='upper left')\n",
        "plt.show()\n",
        "\n",
        "plt.plot(history.history['loss'])\n",
        "plt.plot(history.history['val_loss'])\n",
        "plt.title('model loss')\n",
        "plt.ylabel('loss')\n",
        "plt.xlabel('epoch')\n",
        "plt.legend(['train', 'test'], loc='upper left')\n",
        "plt.show()"
      ],
      "execution_count": null,
      "outputs": [
        {
          "output_type": "display_data",
          "data": {
            "image/png": "[encoded data removed]",
            "text/plain": [
              "<Figure size 432x288 with 1 Axes>"
            ]
          },
          "metadata": {
            "tags": [],
            "needs_background": "light"
          }
        },
        {
          "output_type": "display_data",
          "data": {
            "image/png": "[encoded data removed]",
            "text/plain": [
              "<Figure size 432x288 with 1 Axes>"
            ]
          },
          "metadata": {
            "tags": [],
            "needs_background": "light"
          }
        },
        {
          "output_type": "stream",
          "text": [
            "time: 357 ms (started: 2021-06-05 10:27:55 +00:00)\n"
          ],
          "name": "stdout"
        }
      ]
    },
    {
      "cell_type": "markdown",
      "metadata": {
        "id": "A4A6W0X-sJgu"
      },
      "source": [
        "# SGD with Momentum"
      ]
    },
    {
      "cell_type": "code",
      "metadata": {
        "id": "WAW5F4OOt_rG"
      },
      "source": [
        "model.reset_states()\n",
        "model.reset_metrics()"
      ],
      "execution_count": null,
      "outputs": []
    },
    {
      "cell_type": "code",
      "metadata": {
        "colab": {
          "base_uri": "https://localhost:8080/"
        },
        "id": "666oRV6TsHFo",
        "outputId": "224f1f91-9204-4653-c8e4-249c82ab8813"
      },
      "source": [
        "model.compile(\n",
        "    optimizer=tf.keras.optimizers.SGD(0.001),\n",
        "    loss=tf.keras.losses.SparseCategoricalCrossentropy(from_logits=True),\n",
        "    metrics=[tf.keras.metrics.SparseCategoricalAccuracy()],\n",
        ")\n",
        "history = model.fit(\n",
        "    train_ds,\n",
        "    epochs=20,\n",
        "    validation_data=test_ds,\n",
        ")"
      ],
      "execution_count": null,
      "outputs": [
        {
          "output_type": "stream",
          "text": [
            "Epoch 1/20\n",
            "469/469 [==============================] - 2s 4ms/step - loss: 1.7458 - sparse_categorical_accuracy: 0.5164 - val_loss: 1.4645 - val_sparse_categorical_accuracy: 0.6428\n",
            "Epoch 2/20\n",
            "469/469 [==============================] - 2s 4ms/step - loss: 1.0429 - sparse_categorical_accuracy: 0.8108 - val_loss: 1.0845 - val_sparse_categorical_accuracy: 0.7084\n",
            "Epoch 3/20\n",
            "469/469 [==============================] - 2s 4ms/step - loss: 0.7302 - sparse_categorical_accuracy: 0.8574 - val_loss: 0.9004 - val_sparse_categorical_accuracy: 0.7384\n",
            "Epoch 4/20\n",
            "469/469 [==============================] - 2s 4ms/step - loss: 0.5754 - sparse_categorical_accuracy: 0.8762 - val_loss: 0.7945 - val_sparse_categorical_accuracy: 0.7596\n",
            "Epoch 5/20\n",
            "469/469 [==============================] - 2s 3ms/step - loss: 0.4872 - sparse_categorical_accuracy: 0.8892 - val_loss: 0.7247 - val_sparse_categorical_accuracy: 0.7760\n",
            "Epoch 6/20\n",
            "469/469 [==============================] - 2s 4ms/step - loss: 0.4305 - sparse_categorical_accuracy: 0.8977 - val_loss: 0.6739 - val_sparse_categorical_accuracy: 0.7889\n",
            "Epoch 7/20\n",
            "469/469 [==============================] - 2s 3ms/step - loss: 0.3906 - sparse_categorical_accuracy: 0.9041 - val_loss: 0.6346 - val_sparse_categorical_accuracy: 0.7986\n",
            "Epoch 8/20\n",
            "469/469 [==============================] - 2s 4ms/step - loss: 0.3607 - sparse_categorical_accuracy: 0.9089 - val_loss: 0.6029 - val_sparse_categorical_accuracy: 0.8073\n",
            "Epoch 9/20\n",
            "469/469 [==============================] - 2s 4ms/step - loss: 0.3372 - sparse_categorical_accuracy: 0.9132 - val_loss: 0.5764 - val_sparse_categorical_accuracy: 0.8146\n",
            "Epoch 10/20\n",
            "469/469 [==============================] - 2s 4ms/step - loss: 0.3182 - sparse_categorical_accuracy: 0.9173 - val_loss: 0.5539 - val_sparse_categorical_accuracy: 0.8217\n",
            "Epoch 11/20\n",
            "469/469 [==============================] - 2s 4ms/step - loss: 0.3024 - sparse_categorical_accuracy: 0.9204 - val_loss: 0.5344 - val_sparse_categorical_accuracy: 0.8288\n",
            "Epoch 12/20\n",
            "469/469 [==============================] - 2s 3ms/step - loss: 0.2891 - sparse_categorical_accuracy: 0.9235 - val_loss: 0.5172 - val_sparse_categorical_accuracy: 0.8342\n",
            "Epoch 13/20\n",
            "469/469 [==============================] - 2s 4ms/step - loss: 0.2775 - sparse_categorical_accuracy: 0.9259 - val_loss: 0.5020 - val_sparse_categorical_accuracy: 0.8393\n",
            "Epoch 14/20\n",
            "469/469 [==============================] - 2s 4ms/step - loss: 0.2675 - sparse_categorical_accuracy: 0.9283 - val_loss: 0.4884 - val_sparse_categorical_accuracy: 0.8440\n",
            "Epoch 15/20\n",
            "469/469 [==============================] - 2s 4ms/step - loss: 0.2586 - sparse_categorical_accuracy: 0.9307 - val_loss: 0.4761 - val_sparse_categorical_accuracy: 0.8490\n",
            "Epoch 16/20\n",
            "469/469 [==============================] - 2s 4ms/step - loss: 0.2508 - sparse_categorical_accuracy: 0.9324 - val_loss: 0.4650 - val_sparse_categorical_accuracy: 0.8524\n",
            "Epoch 17/20\n",
            "469/469 [==============================] - 2s 4ms/step - loss: 0.2437 - sparse_categorical_accuracy: 0.9340 - val_loss: 0.4548 - val_sparse_categorical_accuracy: 0.8561\n",
            "Epoch 18/20\n",
            "469/469 [==============================] - 2s 4ms/step - loss: 0.2373 - sparse_categorical_accuracy: 0.9357 - val_loss: 0.4454 - val_sparse_categorical_accuracy: 0.8592\n",
            "Epoch 19/20\n",
            "469/469 [==============================] - 2s 4ms/step - loss: 0.2315 - sparse_categorical_accuracy: 0.9372 - val_loss: 0.4368 - val_sparse_categorical_accuracy: 0.8628\n",
            "Epoch 20/20\n",
            "469/469 [==============================] - 2s 4ms/step - loss: 0.2263 - sparse_categorical_accuracy: 0.9386 - val_loss: 0.4288 - val_sparse_categorical_accuracy: 0.8659\n",
            "time: 41.9 s (started: 2021-06-05 10:29:46 +00:00)\n"
          ],
          "name": "stdout"
        }
      ]
    },
    {
      "cell_type": "code",
      "metadata": {
        "colab": {
          "base_uri": "https://localhost:8080/",
          "height": 590
        },
        "id": "Sl22lOlyt60k",
        "outputId": "2bd091bb-de11-46e0-f715-8fad420d752b"
      },
      "source": [
        "import matplotlib.pyplot as plt\n",
        "\n",
        "plt.plot(history.history['sparse_categorical_accuracy'])\n",
        "plt.plot(history.history['val_sparse_categorical_accuracy'])\n",
        "plt.title('model accuracy')\n",
        "plt.ylabel('sparse_categorical_accuracy')\n",
        "plt.xlabel('epoch')\n",
        "plt.legend(['train', 'test'], loc='upper left')\n",
        "plt.show()\n",
        "\n",
        "plt.plot(history.history['loss'])\n",
        "plt.plot(history.history['val_loss'])\n",
        "plt.title('model loss')\n",
        "plt.ylabel('loss')\n",
        "plt.xlabel('epoch')\n",
        "plt.legend(['train', 'test'], loc='upper left')\n",
        "plt.show()"
      ],
      "execution_count": null,
      "outputs": [
        {
          "output_type": "display_data",
          "data": {
            "image/png": "[encoded data removed]",
            "text/plain": [
              "<Figure size 432x288 with 1 Axes>"
            ]
          },
          "metadata": {
            "tags": [],
            "needs_background": "light"
          }
        },
        {
          "output_type": "display_data",
          "data": {
            "image/png": "[encoded data removed]",
            "text/plain": [
              "<Figure size 432x288 with 1 Axes>"
            ]
          },
          "metadata": {
            "tags": [],
            "needs_background": "light"
          }
        },
        {
          "output_type": "stream",
          "text": [
            "time: 351 ms (started: 2021-06-05 10:30:32 +00:00)\n"
          ],
          "name": "stdout"
        }
      ]
    },
    {
      "cell_type": "code",
      "metadata": {
        "id": "LxDmsONQuXFy"
      },
      "source": [
        ""
      ],
      "execution_count": null,
      "outputs": []
    }
  ]
}